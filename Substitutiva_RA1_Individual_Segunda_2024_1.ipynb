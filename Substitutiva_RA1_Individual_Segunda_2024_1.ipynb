{
  "nbformat": 4,
  "nbformat_minor": 0,
  "metadata": {
    "colab": {
      "provenance": [],
      "include_colab_link": true
    },
    "kernelspec": {
      "name": "python3",
      "display_name": "Python 3"
    },
    "language_info": {
      "name": "python"
    }
  },
  "cells": [
    {
      "cell_type": "markdown",
      "metadata": {
        "id": "view-in-github",
        "colab_type": "text"
      },
      "source": [
        "<a href=\"https://colab.research.google.com/github/andre210505/RA1/blob/main/Substitutiva_RA1_Individual_Segunda_2024_1.ipynb\" target=\"_parent\"><img src=\"https://colab.research.google.com/assets/colab-badge.svg\" alt=\"Open In Colab\"/></a>"
      ]
    },
    {
      "cell_type": "markdown",
      "source": [
        "# Avaliação em INDIVIDUAL RA1 - 2024-1\n",
        "\n",
        "**Antes de começar, leia estas instruções cuidadosamente.**\n",
        "Esta avaliação é individual. Você poderá consultar qualquer fonte disponível na biblioteca, suas anotações ou na internet. Mas, não poderá consultar outras pessoas.\n",
        "\n",
        "Não existirão prorrogações de prazo de entrega.\n",
        "\n",
        "**Trabalhos idênticos entregues por pessoas, diferentes, serão zerados.**\n",
        "\n",
        "Todos os trabalhos serão entregues em uma cópia deste caderno de atividades na forma de um link postado no AVA da instituição (Canvas). Todos os enunciados devem ser preservados e você deverá inserir uma célula de textos com o **seu nome**, logo após esta célula de texto de instruções.\n",
        "\n",
        "Qualquer alteração do caderno contendo as suas respostas que seja registrada após a data de postagem provocará a anulação da avaliação.\n",
        "\n",
        "Você poderá usar, neste notebook, apenas a linguagem python limitada ao uso das seguintes bibliotecas: numpy, sympy, matplotlib, ipWidgets e IPython. Todo e qualquer gráfico deverá ser criado usando o Python.\n",
        "\n",
        "Entrega será realizada com a postagem de um link para um ambiente de execução, no AVA da institução. Neste link o seu caderno deve permitir ser executado (permissão de leitor). Serão aceitos links diretos ao ambiente do Google Colaboratory, ou Links a um caderno do Google Colaboratory que tenha sido salvo pelo próprio Google Colaboratory no GitHub. Links para outro ambiente, ou que requeiram qualquer tipo de download, cliques extras, ou ainda, que requeiram aprovação para acesso, provocarão o zeramento desta avaliação.\n",
        "\n",
        "Todas as suas simplificações e considerações serão levadas em consideração. Contudo, lembre-se que estas questões devem ser resolvidas com álgebra formal e apenas álgebra.\n",
        "\n",
        "Se você encontrar algo errado nesta avaliação simplesmente anote suas observações na própria questão. Suas observações serão consideradas durante a avaliação e, em caso de pertinência, poderão encejar a anulação do item, ou questão, a critério do professor.\n",
        "\n",
        "Não é permitido usar qualquer técnica matemática baseada em derivação, cálculo numérico, séries de Taylor ou Leibntz, ou que fuja dos conteúdos apresenados em aula referentes ao estudo dos conteúdos referentes a esta avaliação.\n",
        "\n",
        "Esta avaliação aborda os conteúdos referentes a limites, fórmula das diferenças finitas e tangentes.\n",
        "\n",
        "**Lembrem-se a interpretação faz parte da questão.**"
      ],
      "metadata": {
        "id": "IYWLM47FgvAt"
      }
    },
    {
      "cell_type": "markdown",
      "source": [
        "## Questões\n",
        "Usando apenas álgebra encontre o limites solicitados a seguir e faça uma análise dos resultados encontrados. Para fazer a análise você pode usar as ferramentas que desejar, desde que seja possível verificar a validade das suas afirmações usando apenas este caderno de avaliação.\n",
        "\n",
        "Lembre-se você deve usar notação matemática na sua resposta. O que implica no uso de Latex nas células de texto deste caderno de avaliação.\n",
        "\n",
        "Observe que o cálculo do valor de tendência do limite, usando uma calculadora, site, ou ferramenta qualquer, por si só não pode ser usado como argumento na sua análise. Isso quer dizer que justificativas como o limite é $w$ porque o Sympy disse que era esse valor, não serão aceitas.\n",
        "\n",
        "### Exercício 1\n",
        "$$ \\lim_{x \\to 1} \\frac{x^2 - 1}{x - 1} $$\n",
        "\n",
        "### Exercício 2\n",
        "$$ \\lim_{x \\to 3} \\frac{x^2 - x - 6}{x^2 - 9} $$\n",
        "\n",
        "### Exercício 3\n",
        "$$\n",
        "\\lim_{x \\to 1} f(x) \\text{ onde } f(x) = \\begin{cases}\n",
        "2x+1 & x \\leq 1 \\\\\n",
        "x^2 + 1 & x > 1\n",
        "\\end{cases}\n",
        "$$\n",
        "\n",
        "### Exercício 4\n",
        "$$\\lim_{x \\to -\\infty} (\\sqrt{x^2 - x} - x)$$\n",
        "\n",
        "**Atenção**: o sympy parece não calcular o Exercício 4 corretamente.\n",
        "\n",
        "### Exercício 5\n",
        "$$ \\lim_{x \\to \\infty} \\frac{4x^2 + 3x - 5}{2x^2 - x + 1} $$\n",
        "\n",
        "As análises podem ser feitas por meio da análise gráfica, ou da ánálise dos limites laterais (aproximações pela esquerda e pela direita. Serão avaliadas de acordo com o que for apresentado por cada aluno.\n",
        "\n",
        "**Rúbrica de avaliação**: cada limite corretamente determinado com a algebra demonstrada em notação matemática 1 ponto; cada análise consistente 1 ponto. Total 2 pontos por questão implicando em, no máximo 10 pontos.\n"
      ],
      "metadata": {
        "id": "Hffk6Rtmhaga"
      }
    },
    {
      "cell_type": "markdown",
      "source": [
        "Nome: André Luís Oliveira Ferreira da Silva"
      ],
      "metadata": {
        "id": "FGT8BMhdyKNP"
      }
    },
    {
      "cell_type": "markdown",
      "source": [
        "### Exercício 1\n",
        "\n",
        "$$\\lim_{{x \\to 1}} \\frac{x^2 - 1}{x - 1} $$\n",
        "Fatoração:\n",
        "$$ = \\lim_{{x \\to 1}} \\frac{(x + 1)(x - 1)}{x - 1} $$\n",
        "\n",
        "Cancelamento de $(x + 1)$:\n",
        "\n",
        "$$ = \\lim_{{x \\to 1}} (x + 1)\n",
        "= 1 + 1\n",
        "= 2 $$\n"
      ],
      "metadata": {
        "id": "4kWx2EGlyUtq"
      }
    },
    {
      "cell_type": "code",
      "source": [
        "import numpy as np\n",
        "import matplotlib.pyplot as plt\n",
        "\n",
        "# Definindo a função\n",
        "def f(x):\n",
        "    return (x**2 - 1) / (x - 1)\n",
        "\n",
        "# Criando valores de x\n",
        "x = np.linspace(0.5, 1.5, 400)  # Intervalo próximo a 1\n",
        "\n",
        "# Calculando os valores de f(x)\n",
        "y = f(x)\n",
        "\n",
        "# Plotando o gráfico\n",
        "plt.figure(figsize=(8, 6))\n",
        "plt.plot(x, y, label=r'$f(x) = \\frac{x^2 - 1}{x - 1}$')\n",
        "plt.xlabel('x')\n",
        "plt.ylabel('f(x)')\n",
        "plt.title('Gráfico de $f(x)$')\n",
        "plt.axvline(1, color='gray', linestyle='--')  # Linha vertical em x=1\n",
        "plt.grid(True, linestyle='--', alpha=0.7)\n",
        "plt.legend()\n",
        "plt.show()\n"
      ],
      "metadata": {
        "id": "hknFSRLD-8nJ"
      },
      "execution_count": null,
      "outputs": []
    },
    {
      "cell_type": "markdown",
      "source": [
        "### Exercício 2\n",
        "$$ \\lim_{x \\to 3} \\frac{x^2 - x - 6}{x^2 - 9} $$\n",
        "\n",
        "Fatoração:\n",
        "\n",
        "$$ = \\lim_{x \\to 3} \\frac{(x + 2)(x - 3)}{(x + 3)(x - 3)}$$\n",
        "\n",
        "Cancelamento de $(x - 3) $:\n",
        "\n",
        "$$= \\lim_{x \\to 3} \\frac{x + 2}{x + 3}$$\n",
        "\n",
        "Substituição de $ x = 3 $:\n",
        "\n",
        "$$= \\frac{3 + 2}{3 + 3}\n",
        "= \\frac{5}{6} $$\n",
        "\n",
        "O gráfico a seguir compara visualmente a função original com a função simplificada.  Sendo possivel ver claramente como ambas as funções se comportam em torno de $x = 3$\n",
        "x=3 e como elas se aproximam de seus respectivos valores limite à medida que\n",
        "x se aproxima de 3. Portanto ajuda a entender por que o limite da função original é $\\frac{5}{6}$."
      ],
      "metadata": {
        "id": "5U-b04V70QtJ"
      }
    },
    {
      "cell_type": "code",
      "source": [
        "import numpy as np\n",
        "import matplotlib.pyplot as plt\n",
        "\n",
        "# Definindo a função original\n",
        "def f_original(x):\n",
        "    return (x**2 - x - 6) / (x**2 - 9)\n",
        "\n",
        "# Definindo a função simplificada\n",
        "def f_simplificada(x):\n",
        "    return (x + 2) / (x + 3)\n",
        "\n",
        "# Criando valores de x\n",
        "x = np.linspace(2.5, 3.5, 400)  # Intervalo próximo a 3\n",
        "\n",
        "# Calculando os valores de f(x) para ambas as funções\n",
        "y_original = f_original(x)\n",
        "y_simplificada = f_simplificada(x)\n",
        "\n",
        "# Plotando o gráfico\n",
        "plt.figure(figsize=(8, 6))\n",
        "plt.plot(x, y_original, label=r'$f(x) = \\frac{x^2 - x - 6}{x^2 - 9}$')\n",
        "plt.plot(x, y_simplificada, label=r'$f(x) = \\frac{x + 2}{x + 3}$', linestyle='--')\n",
        "plt.xlabel('x')\n",
        "plt.ylabel('f(x)')\n",
        "plt.title('Comparação entre a função original e a função simplificada')\n",
        "plt.axvline(3, color='gray', linestyle='--')  # Linha vertical em x=3\n",
        "plt.grid(True, linestyle='--', alpha=0.7)\n",
        "plt.legend()\n",
        "plt.show()\n",
        "\n"
      ],
      "metadata": {
        "id": "FkW32Z219Vza"
      },
      "execution_count": null,
      "outputs": []
    },
    {
      "cell_type": "markdown",
      "source": [
        "### Exercício 3\n",
        "$$\n",
        "\\lim_{x \\to 1} f(x) \\text{ onde } f(x) = \\begin{cases}\n",
        "2x+1 & x \\leq 1 \\\\\n",
        "x^2 + 1 & x > 1\n",
        "\\end{cases}\n",
        "$$\n",
        "\n",
        "Encontrando os limites laterais:\n",
        "\n",
        "\\begin{align*}\n",
        "\\lim_{x \\to 1^-} f(x) &= \\lim_{x \\to 1^-} (2x + 1) \\\\\n",
        "&= 2(1) + 1 \\\\\n",
        "&= 3\n",
        "\\end{align*}\n",
        "\n",
        "\\begin{align*}\n",
        "\\lim_{x \\to 1^+} f(x) &= \\lim_{x \\to 1^+} (x^2 + 1) \\\\\n",
        "&= 1^2 + 1 \\\\\n",
        "&= 2\n",
        "\\end{align*}\n",
        "\n",
        "Como os limites laterais são diferentes, o limite de $f(x)$ conforme $x$ se aproxima de $1$ não existe.\n",
        "\n",
        "\n",
        "\n",
        "\n",
        "\n"
      ],
      "metadata": {
        "id": "s_PbH_WeyvAu"
      }
    },
    {
      "cell_type": "code",
      "source": [
        "import numpy as np\n",
        "import matplotlib.pyplot as plt\n",
        "\n",
        "# Definindo a função\n",
        "def f(x):\n",
        "    return np.where(x <= 1, 2*x + 1, x**2 + 1)\n",
        "\n",
        "# Criando valores de x\n",
        "x = np.linspace(0, 2, 400)  # Intervalo de 0 a 2\n",
        "\n",
        "# Calculando os valores de f(x)\n",
        "y = f(x)\n",
        "\n",
        "# Plotando o gráfico\n",
        "plt.figure(figsize=(8, 6))\n",
        "plt.plot(x, y, label=r'$f(x)$')\n",
        "plt.xlabel('x')\n",
        "plt.ylabel('f(x)')\n",
        "plt.title('Gráfico de $f(x)$')\n",
        "plt.axvline(1, color='gray', linestyle='--')  # Linha vertical em x=1\n",
        "plt.grid(True, linestyle='--', alpha=0.7)\n",
        "plt.legend()\n",
        "plt.show()\n"
      ],
      "metadata": {
        "id": "ybbuSP-98zgp"
      },
      "execution_count": null,
      "outputs": []
    },
    {
      "cell_type": "markdown",
      "source": [
        "### Exercício 4\n",
        "$$\\lim_{x \\to -\\infty} (\\sqrt{x^2 - x} - x)$$\n",
        "\n",
        "Desconsiderando $-x$ pois, quando $x$ tende para $-\\infty$, $x^2$ se torna muito maior em magnitude do que $x$:\n",
        "\n",
        "$$\\lim_{x \\to -\\infty} (\\sqrt{x^2 - x} - x) = \\lim_{x \\to -\\infty} (\\sqrt{x^2} - x) = \\lim_{x \\to -\\infty} (|x| - x)$$\n",
        "\n",
        "Analisando: $|x| - x$, quando $x$ tende para $-\\infty$, $|x| = -x$, pois $x$ é negativo. Portanto, $|x| - x = -x - x = -2x$.\n",
        "\n",
        "Sendo assim:\n",
        "\n",
        "$$\\lim_{x \\to -\\infty} (\\sqrt{x^2 - x} - x) = \\lim_{x \\to -\\infty} (-2x) = -\\infty$$\n",
        "\n",
        "Portanto, o limite é $-\\infty$.\n",
        "\n",
        "\n"
      ],
      "metadata": {
        "id": "9353xaMp4RZQ"
      }
    },
    {
      "cell_type": "code",
      "source": [
        "import numpy as np\n",
        "import matplotlib.pyplot as plt\n",
        "\n",
        "# Definindo a função\n",
        "def f(x):\n",
        "    return np.sqrt(x**2 - x) - x\n",
        "\n",
        "# Criando valores de x\n",
        "x = np.linspace(-10, 0, 400)  # Intervalo de -10 a 0\n",
        "\n",
        "# Calculando os valores de f(x)\n",
        "y = f(x)\n",
        "\n",
        "# Plotando o gráfico\n",
        "plt.figure(figsize=(8, 6))\n",
        "plt.plot(x, y, label=r'$f(x) = \\sqrt{x^2 - x} - x$')\n",
        "plt.xlabel('x')\n",
        "plt.ylabel('f(x)')\n",
        "plt.title('Gráfico de $f(x)$')\n",
        "plt.axvline(0, color='gray', linestyle='--')  # Linha vertical em x=0\n",
        "plt.axhline(0, color='gray', linestyle='--')  # Linha horizontal em y=0\n",
        "plt.grid(True, linestyle='--', alpha=0.7)\n",
        "plt.legend()\n",
        "plt.show()\n"
      ],
      "metadata": {
        "id": "d3A71xCs5yHH"
      },
      "execution_count": null,
      "outputs": []
    },
    {
      "cell_type": "markdown",
      "source": [
        "\n",
        "### Exercício 5\n",
        "$$ \\lim_{x \\to \\infty} \\frac{4x^2 + 3x - 5}{2x^2 - x + 1} $$\n",
        "\n",
        "Dividindo todos os termos pelo termo de maior grau, que é $x^2$, conforme $x$ se aproxima de $\\infty$:\n",
        "\n",
        "\n",
        "$$\\lim_{x \\to \\infty} \\frac{\\frac{4x^2}{x^2} + \\frac{3x}{x^2} - \\frac{5}{x^2}}{\\frac{2x^2}{x^2} - \\frac{x}{x^2} + \\frac{1}{x^2}}$$\n",
        "\n",
        "\n",
        "$$= \\lim_{x \\to \\infty} \\frac{4 + \\frac{3}{x} - \\frac{5}{x^2}}{2 - \\frac{1}{x} + \\frac{1}{x^2}}$$\n",
        "\n",
        "À medida que $x$ se aproxima do infinito, os termos com $\\frac{1}{x}$ e $\\frac{1}{x^2}$ se aproximam de zero, então, simplificando:\n",
        "\n",
        "\n",
        "$$\\lim_{x \\to \\infty} \\frac{4 + 0 - 0}{2 - 0 + 0} = \\frac{4}{2} = 2$$\n",
        "\n",
        "Portanto, o limite é $2$.\n",
        "\n",
        "\n",
        "\n"
      ],
      "metadata": {
        "id": "7jm6PvAO5oj5"
      }
    },
    {
      "cell_type": "code",
      "source": [
        "import numpy as np\n",
        "import matplotlib.pyplot as plt\n",
        "\n",
        "# Definindo a função\n",
        "def f(x):\n",
        "    return (4*x**2 + 3*x - 5) / (2*x**2 - x + 1)\n",
        "\n",
        "# Criando valores de x\n",
        "x = np.linspace(1, 10, 400)  # Intervalo de 1 a 10\n",
        "\n",
        "# Calculando os valores de f(x)\n",
        "y = f(x)\n",
        "\n",
        "# Plotando o gráfico\n",
        "plt.figure(figsize=(8, 6))\n",
        "plt.plot(x, y, label=r'$f(x) = \\frac{4x^2 + 3x - 5}{2x^2 - x + 1}$')\n",
        "plt.xlabel('x')\n",
        "plt.ylabel('f(x)')\n",
        "plt.title('Gráfico de $f(x)$')\n",
        "plt.axvline(0, color='gray', linestyle='--')  # Linha vertical em x=0\n",
        "plt.axhline(0, color='gray', linestyle='--')  # Linha horizontal em y=0\n",
        "plt.grid(True, linestyle='--', alpha=0.7)\n",
        "plt.legend()\n",
        "plt.show()\n"
      ],
      "metadata": {
        "id": "1BHgwn0I7zek"
      },
      "execution_count": null,
      "outputs": []
    },
    {
      "cell_type": "code",
      "source": [],
      "metadata": {
        "id": "OheAbly9ydlw"
      },
      "execution_count": null,
      "outputs": []
    }
  ]
}