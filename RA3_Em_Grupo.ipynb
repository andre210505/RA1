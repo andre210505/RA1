{
  "nbformat": 4,
  "nbformat_minor": 0,
  "metadata": {
    "colab": {
      "provenance": [],
      "toc_visible": true,
      "include_colab_link": true
    },
    "kernelspec": {
      "name": "python3",
      "display_name": "Python 3"
    },
    "language_info": {
      "name": "python"
    }
  },
  "cells": [
    {
      "cell_type": "markdown",
      "metadata": {
        "id": "view-in-github",
        "colab_type": "text"
      },
      "source": [
        "<a href=\"https://colab.research.google.com/github/andre210505/RA1/blob/main/RA3_Em_Grupo.ipynb\" target=\"_parent\"><img src=\"https://colab.research.google.com/assets/colab-badge.svg\" alt=\"Open In Colab\"/></a>"
      ]
    },
    {
      "cell_type": "markdown",
      "source": [
        "# Avaliação em GRUPO RA3 - 2024-1\n",
        "\n",
        "**ATENÇÃO: O GOOGLE COLABORATORY ESTÁ APRESENTANDO INSTABILIDADES DE ACESSO NOS COMPUTADORES DA INSTITUIÇÃO. COMO ESTE É UM TRABALHO EM GRUPO CABERÁ A VOCÊ ENCONTRAR UM COMPUTADOR ONDE SEJA POSSÍVEL ENVIAR SEU TRABALHO. LEMBRE-SE: SE FIZER O TRABALHO EM OUTRO AMBIENTE DEVE TESTÁ-LO NO GOOGLE COLABORATORY ANTES DE ENVIAR O LINK COM A SUA RESPOSTA.**\n",
        "\n",
        "**Antes de começar, leia estas instruções cuidadosamente.**\n",
        "Esta avaliação é individual. Você poderá consultar qualquer fonte disponível na biblioteca, suas anotações ou na internet. Mas, não poderá consultar outras pessoas.\n",
        "\n",
        "**Não existirão prorrogações de prazo de entrega.** Se programe para entregar sua avaliação 5 minutos antes do fim do prazo para evitar imprevistos de última hora.\n",
        "\n",
        "**Trabalhos idênticos entregues por pessoas, diferentes, serão zerados.** Todos os trabalhos serão submetidos a verificação de plágio. Isso significa que respostas copiadas e coladas de sistemas de inteligência artificial que sejam classificados com semelhança maior que 70% também serão zerados. Qualquer diagnóstico indicativo de plágio acima de 70% também irá provocar o zeramento da avaliação.\n",
        "\n",
        "Para que sua avaliação seja considerada **todos os trabalhos serão entregues em uma cópia deste caderno de atividades na forma de um link postado no AVA da instituição (Canvas)** apenas no local correspondente a essa entrega na avaliação. Qualquer link enviado em comentários, e-mails, mensagens de Whatsapp, ou qualquer outro meio eletrônico serão ignorados provocando o zeramento desta avaliação.\n",
        "\n",
        "Entrega será realizada com a postagem de um link para um ambiente de execução, no AVA da institução. Neste link o **seu caderno deve permitir ser executado (permissão de leitor)**. Serão aceitos links diretos ao ambiente do Google Colaboratory, ou Links a um caderno do Google Colaboratory que tenha sido **salvo pelo próprio Google Colaboratory** no GitHub. Links para outro ambiente, ou que requeiram qualquer tipo de **download, cliques extras, ou ainda, que requeiram aprovação para acesso, provocarão o zeramento desta avaliação**.\n",
        "\n",
        "Antes de enviar o seu trabalho, teste o compartilhamento em uma aba anônima do seu navegador web preferido.\n",
        "\n",
        "Todos os enunciados devem ser preservados e você deverá inserir uma célula de textos com o **seu nome, logo após esta célula de texto de instruções**.\n",
        "\n",
        "**Qualquer alteração do caderno contendo as suas respostas que seja registrada após a data de postagem provocará a anulação da avaliação**.\n",
        "\n",
        "Você poderá usar, nas suas respostas, só e somente só, a **linguagem Python** limitada ao uso das seguintes bibliotecas: **math, numpy, sympy, matplotlib, ipWidgets e IPython**. O uso de qualquer biblioteca não listada nestas instruções irá provocar o zeramento da avaliação.\n",
        "\n",
        "**Todo e qualquer gráfico que usar nas suas respostas deverá ser criado usando o Python**."
      ],
      "metadata": {
        "id": "rOQxiRt9gkIA"
      }
    },
    {
      "cell_type": "markdown",
      "source": [
        "Nome: André Oliveira, Bruno Rodolfo, Erick Otto"
      ],
      "metadata": {
        "id": "WolBHMODGlal"
      }
    },
    {
      "cell_type": "markdown",
      "source": [
        "#Questão 1 - Vale até 2 pontos\n",
        "\n",
        "Plote em um gráfico, usando apenas Python, a região delimitada pelas funções $f(y) = y^2 + 2$, $g(y) = 0$, $y = -1$, $y = 2$ encontre a área, com respeito a $y$ usando apenas a álgebra e confirme seu resultado com ferramentas computacionais.\n",
        "\n",
        "\n"
      ],
      "metadata": {
        "id": "ps7lcXn04YJN"
      }
    },
    {
      "cell_type": "markdown",
      "source": [
        "#R1:\n",
        "\n",
        "Para encontrar a área entre as curvas $f(y)$ e $g(y)$ no intervalo de $y = a$ a $y = b$, é necessário utilizar a seguinte fórmula de integração:\n",
        "$$\n",
        "\\text{Área} = \\int_a^b (f(y) - g(y)) \\, dy\n",
        "$$\n",
        "\n",
        "Na questão, temos as funções:\n",
        "$$\n",
        "f(y) = y^2 + 2 \\quad \\text{e} \\quad g(y) = 0\n",
        "$$\n",
        "\n",
        "E os limites de integração são:\n",
        "$$\n",
        "a = -1 \\quad \\text{e} \\quad b = 2\n",
        "$$\n",
        "\n",
        "Portanto, a expressão para a área torna-se:\n",
        "$$\n",
        "\\text{Área} = \\int_{-1}^{2} (y^2 + 2) \\, dy\n",
        "$$\n",
        "\n",
        "### Calculando a intregral:\n",
        "\n",
        "Primeiro, é necessario dividir a integral em duas partes:\n",
        "$$\n",
        "\\int_{-1}^{2} (y^2 + 2) \\, dy = \\int_{-1}^{2} y^2 \\, dy + \\int_{-1}^{2} 2 \\, dy\n",
        "$$\n",
        "\n",
        "Para calcular $\\int y^2 \\, dy$, é necessario usar a regra de integração para potências:\n",
        "$$\n",
        "\\int y^2 \\, dy = \\frac{y^{2+1}}{2+1} = \\frac{y^3}{3}\n",
        "$$\n",
        "\n",
        "E para calcular $\\int 2 \\, dy$, é necessario usar a regra de integração para uma constante:\n",
        "$$\n",
        "\\int 2 \\, dy = 2y\n",
        "$$\n",
        "\n",
        "Em seguida é necessario somar as integrais calculadas:\n",
        "$$\n",
        "\\int (y^2 + 2) \\, dy = \\frac{y^3}{3} + 2y\n",
        "$$\n",
        "\n",
        "Agora avaliamos a integral definida de $y = -1$ a $y = 2$. Para isso, é necessário substituir os limites na primitiva obtida:\n",
        "$$\n",
        "\\left[ \\frac{y^3}{3} + 2y \\right]_{-1}^{2}\n",
        "$$\n",
        "\n",
        "Substituindo $y = 2$ na primitiva:\n",
        "$$\n",
        "\\left( \\frac{2^3}{3} + 2 \\cdot 2 \\right)\n",
        "$$\n",
        "\n",
        "Calculando os valores:\n",
        "$$\n",
        "\\frac{8}{3} + 4 = \\frac{8}{3} + \\frac{12}{3} = \\frac{20}{3}\n",
        "$$\n",
        "\n",
        "Substituindo $y = -1$ na primitiva:\n",
        "$$\n",
        "\\left( \\frac{(-1)^3}{3} + 2 \\cdot (-1) \\right)\n",
        "$$\n",
        "\n",
        "Calculando os valores:\n",
        "$$\n",
        "\\frac{-1}{3} - 2 = \\frac{-1}{3} - \\frac{6}{3} = \\frac{-7}{3}\n",
        "$$\n",
        "\n",
        "Agora, é necessario subtrair o valor da primitiva em $y = -1$ do valor da primitiva em $y = 2$:\n",
        "$$\n",
        "\\left( \\frac{20}{3} \\right) - \\left( \\frac{-7}{3} \\right)\n",
        "$$\n",
        "\n",
        "Somando os valores:\n",
        "$$\n",
        "\\frac{20}{3} + \\frac{7}{3} = \\frac{27}{3} = 9\n",
        "$$\n",
        "\n",
        "Portanto, a área da região delimitada é 9.\n",
        "\n",
        "O código abaixo realiza a integração simbólica confirmando a resolução e plota a região delimitada pelas funções $f(y)$ e $g(y)$."
      ],
      "metadata": {
        "id": "N4zG49NFGohw"
      }
    },
    {
      "cell_type": "code",
      "source": [
        "import numpy as np\n",
        "import sympy as sp\n",
        "import matplotlib.pyplot as plt\n",
        "\n",
        "# Definindo a variável simbólica\n",
        "y = sp.symbols('y')\n",
        "\n",
        "# Definindo as funções\n",
        "f = y**2 + 2\n",
        "g = 0\n",
        "\n",
        "# Definindo os limites de integração\n",
        "a = -1\n",
        "b = 2\n",
        "\n",
        "# Calculando a integral simbolicamente\n",
        "area = sp.integrate(f - g, (y, a, b))\n",
        "\n",
        "# Gerando valores para plotagem\n",
        "y_vals = np.linspace(a, b, 400)\n",
        "f_vals = y_vals**2 + 2\n",
        "g_vals = np.zeros_like(y_vals)\n",
        "\n",
        "# Plotando a região delimitada\n",
        "plt.fill_between(y_vals, g_vals, f_vals, where=(y_vals >= a) & (y_vals <= b), color='skyblue', alpha=0.4)\n",
        "plt.plot(y_vals, f_vals, label='$f(y) = y^2 + 2$')\n",
        "plt.plot(y_vals, g_vals, label='$g(y) = 0$')\n",
        "plt.axvline(a, color='red', linestyle='--')\n",
        "plt.axvline(b, color='red', linestyle='--')\n",
        "plt.title(\"Região delimitada pelas funções\")\n",
        "plt.xlabel('$y$')\n",
        "plt.ylabel('$x$')\n",
        "plt.legend()\n",
        "plt.grid(True)\n",
        "plt.show()\n",
        "\n",
        "# Exibindo a área calculada simbolicamente\n",
        "print(f'A área calculada simbolicamente é: {area.evalf()}')"
      ],
      "metadata": {
        "colab": {
          "base_uri": "https://localhost:8080/",
          "height": 490
        },
        "id": "MSFm520WGvtu",
        "outputId": "b33228a2-d2ab-466b-a108-0a39d23b8c0d"
      },
      "execution_count": 1,
      "outputs": [
        {
          "output_type": "display_data",
          "data": {
            "text/plain": [
              "<Figure size 640x480 with 1 Axes>"
            ],
            "image/png": "[encoded data removed]"
          },
          "metadata": {}
        },
        {
          "output_type": "stream",
          "name": "stdout",
          "text": [
            "A área calculada simbolicamente é: 9.00000000000000\n"
          ]
        }
      ]
    },
    {
      "cell_type": "markdown",
      "source": [
        "# Questão 2 - Vale até 4 pontos\n",
        "Seja $R$ a região delimitada pelos gráficos das funções $f(x) = \\frac{x}{2} + 5$ e $g(x) = x + \\frac{1}{2}$ no intervalo $[1, 5]$. Encontre a área da região $R$ usando apenas o Método dos Retângulos de Reimann. Depois, usando álgebra, ou qualquer outro método computacional para encontrar a área de $R$, determine quantos retângulos são necessários para que o erro do Método dos Retângulos de Reimann seja inferior a 0.00001.\n"
      ],
      "metadata": {
        "id": "NAnFCIKse_qN"
      }
    },
    {
      "cell_type": "markdown",
      "source": [
        "\n",
        "#Parte 1: Área pelo Método dos Retângulos de Riemann\n",
        "\n",
        "Primeiro é necessario definir as funções, o intervalo e a quantidade de retângulos.\n",
        "Calculando a área da região $R$ delimitada pelas funções $f(x)$ e $g(x)$:\n",
        "\n",
        "As funções são:\n",
        "$$\n",
        "f(x) = \\frac{x}{2} + 5\n",
        "$$\n",
        "$$\n",
        "g(x) = x + \\frac{1}{2}\n",
        "$$\n",
        "\n",
        "Região de interesse no intervalo $[1, 5]$.\n",
        "\n",
        "Primeiro, é necessario definir as funções $f(x)$ e $g(x)$ e o intervalo de integração. Em seguida, dividir o intervalo $[1, 5]$ em $n$ subintervalos, cada um de largura $\\Delta x = \\frac{5 - 1}{n} = \\frac{4}{n}$. As alturas dos retângulos são dadas pela diferença entre as funções $f(x)$ e $g(x)$ avaliadas nos pontos de amostragem. A soma de Riemann para a área $A$ é:\n",
        "$$\n",
        "A \\approx \\sum_{i=1}^n [f(x_i) - g(x_i)] \\Delta x\n",
        "$$\n",
        "\n",
        "Realizando a operação utilizando Python abaixo:\n",
        "\n",
        "\n"
      ],
      "metadata": {
        "id": "fjO_ubGcJAJB"
      }
    },
    {
      "cell_type": "code",
      "source": [
        "import numpy as np\n",
        "\n",
        "# Definindo as funções\n",
        "def f(x):\n",
        "    return x / 2 + 5\n",
        "\n",
        "def g(x):\n",
        "    return x + 0.5\n",
        "\n",
        "# Definindo o intervalo e o número de retângulos\n",
        "a, b = 1, 5\n",
        "n = 1000  # Podemos começar com 1000 retângulos e aumentar conforme necessário\n",
        "dx = (b - a) / n\n",
        "\n",
        "# Calculando a soma de Riemann\n",
        "x = np.linspace(a, b, n)\n",
        "area_reimann = np.sum((f(x) - g(x)) * dx)\n",
        "\n",
        "print(f'Área estimada usando {n} retângulos: {area_reimann}')"
      ],
      "metadata": {
        "colab": {
          "base_uri": "https://localhost:8080/"
        },
        "id": "wlzz59KMPliz",
        "outputId": "2ef489c4-5151-4fb3-ac95-7721a7d47b2b"
      },
      "execution_count": 2,
      "outputs": [
        {
          "output_type": "stream",
          "name": "stdout",
          "text": [
            "Área estimada usando 1000 retângulos: 12.0\n"
          ]
        }
      ]
    },
    {
      "cell_type": "markdown",
      "source": [
        "#Parte 2: Área Exata\n",
        "\n",
        "Para encontrar a área exata, é necessario integrar a diferença das funções $f(x)$ e $g(x)$ no intervalo $[1, 5]$.\n",
        "\n",
        "$$\n",
        "\\text{Área} = \\int_{1}^{5} \\left( \\frac{x}{2} + 5 - (x + \\frac{1}{2}) \\right) dx\n",
        "$$\n",
        "\n",
        "Simplificando a expressão dentro da integral:\n",
        "$$\n",
        "\\frac{x}{2} + 5 - x - \\frac{1}{2} = -\\frac{x}{2} + \\frac{9}{2}\n",
        "$$\n",
        "\n",
        "Calculando a integral:\n",
        "$$\n",
        "\\int \\left( -\\frac{x}{2} + \\frac{9}{2} \\right) dx = -\\frac{x^2}{4} + \\frac{9x}{2}\n",
        "$$\n",
        "\n",
        "Avaliando de $1$ a $5$:\n",
        "$$\n",
        "\\left[ -\\frac{x^2}{4} + \\frac{9x}{2} \\right]_{1}^{5} = \\left( -\\frac{25}{4} + \\frac{45}{2} \\right) - \\left( -\\frac{1}{4} + \\frac{9}{2} \\right)\n",
        "$$\n",
        "$$\n",
        "= \\left( -\\frac{25}{4} + \\frac{90}{4} \\right) - \\left( -\\frac{1}{4} + \\frac{18}{4} \\right)\n",
        "$$\n",
        "$$\n",
        "= \\left( \\frac{65}{4} \\right) - \\left( \\frac{17}{4} \\right)\n",
        "$$\n",
        "$$\n",
        "= \\frac{48}{4}\n",
        "$$\n",
        "$$\n",
        "= 12\n",
        "$$\n",
        "\n",
        "A área exata da região $R$ é 12.\n",
        "\n"
      ],
      "metadata": {
        "id": "vUi9BNdHRQ78"
      }
    },
    {
      "cell_type": "markdown",
      "source": [
        "#Parte 3: Determinar o Número de Retângulos Necessários para um Erro Inferior a 0.00001\n",
        "\n",
        "Para isso é necessario aumentar o número de retângulos $n$ até que a diferença entre a soma de Riemann e a área exata seja menor que 0.00001.\n",
        "\n",
        "Utilizando um programa em Python para resolução:\n",
        "\n"
      ],
      "metadata": {
        "id": "xvtOkGxKRqB0"
      }
    },
    {
      "cell_type": "code",
      "source": [
        "import numpy as np\n",
        "\n",
        "# Função para calcular a área usando o método dos retângulos de Riemann\n",
        "def reimann_area(f, g, a, b, n):\n",
        "    dx = (b - a) / n\n",
        "    x = np.linspace(a, b, n)\n",
        "    return np.sum((f(x) - g(x)) * dx)\n",
        "\n",
        "# Área exata calculada analiticamente\n",
        "area_exata = 12\n",
        "\n",
        "# Inicializar variáveis\n",
        "n = 1000\n",
        "erro = abs(reimann_area(f, g, a, b, n) - area_exata)\n",
        "\n",
        "# Aumentar o número de retângulos até que o erro seja menor que 0.00001\n",
        "while erro > 0.00001:\n",
        "    n *= 2\n",
        "    erro = abs(reimann_area(f, g, a, b, n) - area_exata)\n",
        "\n",
        "print(f'Número de retângulos necessários: {n}')\n",
        "print(f'Área estimada usando {n} retângulos: {reimann_area(f, g, a, b, n)}')\n",
        "print(f'Erro: {erro}')\n"
      ],
      "metadata": {
        "colab": {
          "base_uri": "https://localhost:8080/"
        },
        "id": "SDkWmqmHSB6d",
        "outputId": "190c5e6a-2638-48a5-8181-9af48fb498dd"
      },
      "execution_count": 4,
      "outputs": [
        {
          "output_type": "stream",
          "name": "stdout",
          "text": [
            "Número de retângulos necessários: 1000\n",
            "Área estimada usando 1000 retângulos: 12.0\n",
            "Erro: 0.0\n"
          ]
        }
      ]
    },
    {
      "cell_type": "markdown",
      "source": [
        "# Questão 3 - Vale até 2 pontos\n",
        "\n",
        "Uma corda de escalada de $60 \\, m$ está pendurada ao lado de um penhasco alto livre de qualquer outra carga exceto seu próprio peso. (a) Quanto trabalho é realizado ao puxar a corda até o topo sabendo que a corda tem uma massa de $66\\, g/m$? (b) Em que ponto exatamente metade do trabalho foi realizado?"
      ],
      "metadata": {
        "id": "xi5mtHOmBcze"
      }
    },
    {
      "cell_type": "markdown",
      "source": [
        "#(a):\n",
        "\n",
        "Dados:\n",
        "\\begin{align*}\n",
        "    \\text{Comprimento da corda, } L &= 60 \\, \\text{m} \\\\\n",
        "    \\text{Massa por unidade de comprimento, } \\mu &= 66 \\, \\text{g/m} = 0.066 \\, \\text{kg/m}\n",
        "\\end{align*}\n",
        "\n",
        "Massa total da corda:\n",
        "\n",
        "$$\n",
        "M = \\mu \\cdot L\n",
        "$$\n",
        "$$\n",
        " 0.066 \\, \\text{kg/m} \\times 60 \\, \\text{m}\n",
        "= 3.96 \\, \\text{kg}\n",
        "$$\n",
        "\n",
        "Força gravitacional (peso) total da corda:\n",
        "$$\n",
        "F = M \\cdot g\n",
        "$$\n",
        "$$\n",
        "3.96 \\, \\text{kg} \\times 9.8 \\, \\text{m/s}^2\n",
        "= 38.808 \\, \\text{N}\n",
        "$$\n",
        "\n",
        "Trabalho total realizado:\n",
        "O trabalho total realizado ao puxar a corda pode ser encontrado considerando que a massa está distribuída uniformemente ao longo do comprimento da corda. Portanto, o centro de massa da corda está no meio do comprimento da corda, ou seja, a $30 \\, \\text{m}$ do topo.\n",
        "\n",
        "$$\n",
        "W = F \\cdot d\n",
        "$$\n",
        "$$\n",
        "38.808 \\, \\text{N} \\times 30 \\, \\text{m}\n",
        "= 1164.24 \\, \\text{J}\n",
        "$$\n",
        "\n",
        "Portanto, o trabalho total realizado para puxar a corda até o topo é $1164.24 \\, \\text{J}$.\n",
        "\n"
      ],
      "metadata": {
        "id": "53T4Qy7uiyyU"
      }
    },
    {
      "cell_type": "markdown",
      "source": [
        "#(b):\n",
        "\n",
        "Para encontrar o ponto onde metade do trabalho foi realizado, é necessario considerar que o trabalho é proporcional ao quadrado da distância, devido à distribuição linear da massa da corda. Então, é necessario encontrar a altura $h$ onde metade do trabalho total foi realizado.\n",
        "\n",
        "Equação para metade do trabalho:\n",
        "$$\n",
        "\\frac{W}{2} = \\mu \\cdot g \\int_{0}^{h} x \\, dx\n",
        "$$\n",
        "\n",
        "Substituindo valores e integrando:\n",
        "\n",
        "$$\n",
        "\\frac{1164.24}{2} = 0.066 \\cdot 9.8 \\left[ \\frac{x^2}{2} \\right]_{0}^{h} \\\\\n",
        "582.12 = 0.066 \\cdot 9.8 \\cdot \\frac{h^2}{2} \\\\\n",
        "582.12 = 0.3234 \\cdot \\frac{h^2}{2} \\\\\n",
        "1164.24 = 0.3234 \\cdot h^2 \\\\\n",
        "h^2 = \\frac{1164.24}{0.3234} \\\\\n",
        "h^2 = 3600 \\\\\n",
        "h = \\sqrt{3600} \\\\\n",
        "h = 60 \\, \\text{m}\n",
        "$$\n",
        "\n",
        "Conclusão\n",
        "\n",
        "Devido à forma como a corda é levantada com distribuição linear de massa, uma posição com metade do trabalho realizado ocorre exatamente no meio do comprimento da corda, que fica 30 metros acima do ponto inicial. Ou seja, metade do trabalho é feito quando a corda é puxada a uma altura de 30 metros.\n",
        "\n"
      ],
      "metadata": {
        "id": "S3hMTOzXjnyQ"
      }
    },
    {
      "cell_type": "markdown",
      "source": [
        "# Questão 4 - Vale até 2 pontos\n",
        "\n",
        "Resolva as integrais a seguir:\n",
        "\n",
        "a) $$\\int \\frac{7}{-3x + 1} \\, dx$$.\n",
        "\n",
        "b) $$\\int \\sin x \\cos x \\, dx$$\n",
        "\n",
        "c) $$\\int x \\sin(x^2 + 5)dx$$.\n",
        "\n",
        "d) $$\\int \\cos(5x)dx$$\n",
        "\n"
      ],
      "metadata": {
        "id": "LCbfM85WLMvd"
      }
    },
    {
      "cell_type": "markdown",
      "source": [
        "# (a):\n",
        "\n",
        "Utilizando substituição:\n",
        "\n",
        "Seja:\n",
        "$$\n",
        "u = -3x + 1\n",
        "$$\n",
        "\n",
        "Então, a derivada de $u$ com respeito a $x$ é:\n",
        "$$\n",
        "\\frac{du}{dx} = -3\n",
        "$$\n",
        "\n",
        "Rearranjando::\n",
        "$$\n",
        "dx = -\\frac{1}{3} du\n",
        "$$\n",
        "\n",
        "Substituindo na integral:\n",
        "\n",
        "A integral se transforma em:\n",
        "$$\n",
        "\\int \\frac{7}{u} \\cdot -\\frac{1}{3} \\, du\n",
        "= -\\frac{7}{3} \\int \\frac{1}{u} \\, du\n",
        "$$\n",
        "\n",
        "A integral de $\\frac{1}{u}$ é o logaritmo natural de $u$:\n",
        "\n",
        "$$\n",
        "= -\\frac{7}{3} \\ln|u| + C\n",
        "$$\n",
        "\n",
        "Substituindo $u$ de volta por $-3x + 1$, obtemos:\n",
        "\n",
        "$$\n",
        "= -\\frac{7}{3} \\ln|-3x + 1| + C\n",
        "$$\n",
        "\n",
        "Portanto, a solução da integral é:\n",
        "\n",
        "$$\n",
        "\\int \\frac{7}{-3x + 1} \\, dx = -\\frac{7}{3} \\ln|-3x + 1| + C\n",
        "$$\n",
        "\n",
        "Análise da Questão:\n",
        "\n",
        "Método Utilizado:\n",
        "Foi utilizada a técnica de substituição simples para resolver a integral.\n",
        "\n",
        "Constante de Integração:\n",
        "A constante $C$ foi incluída para representar a família de antiderivadas da função original. Toda integral indefinida inclui essa constante.\n",
        "\n",
        "Logaritmo Natural:\n",
        "A integral de $\\frac{1}{u}$ é $\\ln|u|$. O uso do valor absoluto dentro do logaritmo natural garante que todos os valores possíveis de \\(u\\) sejam cobertos.\n",
        "\n",
        "\n",
        "\n",
        "\n"
      ],
      "metadata": {
        "id": "73L5YKhelNFN"
      }
    },
    {
      "cell_type": "markdown",
      "source": [
        "#(b):\n",
        "\n",
        "Utilizando a identidade trigonométrica $\\sin(2x) = 2\\sin x \\cos x$, para resolver a questão.\n",
        "\n",
        "\\begin{align*}\n",
        "\\int \\sin x \\cos x \\, dx &= \\frac{1}{2} \\int \\sin(2x) \\, dx \\\\\n",
        "&= -\\frac{1}{2} \\cos(2x) + C\n",
        "\\end{align*}\n",
        "\n",
        "Substituindo de volta na expressão original:\n",
        "\n",
        "$$\n",
        "\\int \\sin x \\cos x \\, dx = -\\frac{1}{2} \\cos(2x) + C\n",
        "$$\n",
        "\n",
        "Análise da Questão:\n",
        "\n",
        "Método Utilizado:\n",
        "Foi usada a identidade trigonométrica $\\sin(2x) = 2\\sin x \\cos x$ para simplificar a integral.\n",
        "\n",
        "Constante de Integração:\n",
        "A constante $C$ foi incluída para representar a família de antiderivadas da função original. Toda integral indefinida inclui essa constante.\n",
        "\n",
        "Expressão Final:\n",
        "A expressão final da integral é $-\\frac{1}{2} \\cos(2x) + C$, onde $C$ é a constante de integração.\n",
        "\n",
        "\n",
        "\n"
      ],
      "metadata": {
        "id": "OehModdHtFiu"
      }
    },
    {
      "cell_type": "markdown",
      "source": [
        "#(c):\n",
        "\n",
        "Para resolver a questão, é necessario substituir $u = x^2 + 5$. Então, $du = 2x \\, dx$.\n",
        "\n",
        "\\begin{align*}\n",
        "\\frac{1}{2} \\int \\sin(u) \\, du &= -\\frac{1}{2} \\cos(u) + C \\\\\n",
        "&= -\\frac{1}{2} \\cos(x^2 + 5) + C\n",
        "\\end{align*}\n",
        "\n",
        "Portanto, a integral é $\\int x \\sin(x^2 + 5) \\, dx = -\\frac{1}{2} \\cos(x^2 + 5) + C$, onde $C$ é a constante de integração.\n",
        "\n",
        "Análise da Questão:\n",
        "\n",
        "Método Utilizado:\n",
        "Foi utilizada a substituição $u = x^2 + 5$ para simplificar a integral.\n",
        "\n",
        "Constante de Integração:\n",
        "A constante $C$ foi incluída para representar a família de antiderivadas da função original. Toda integral indefinida inclui essa constante.\n",
        "\n",
        "Expressão Final:\n",
        "A expressão final da integral é $-\\frac{1}{2} \\cos(x^2 + 5) + C$, onde $C$ é a constante de integração.\n",
        "\n",
        "\n",
        "\n"
      ],
      "metadata": {
        "id": "sFp-JieBx-I0"
      }
    },
    {
      "cell_type": "markdown",
      "source": [
        "#(d):\n",
        "\n",
        "Para resolver a integral $\\int \\cos(5x) \\, dx$, é necessario usar a regra da integral indefinida de $\\cos(ax)$, que é $\\frac{1}{a} \\sin(ax) + C$, onde $a$ é uma constante.\n",
        "\n",
        "Aplicando essa regra à integral dada, onde $a = 5$:\n",
        "\n",
        "$$\n",
        "\\frac{1}{5} \\sin(5x) + C\n",
        "$$\n",
        "\n",
        "Portanto, a integral é $\\int \\cos(5x) \\, dx = \\frac{1}{5} \\sin(5x) + C$, onde $C$ é a constante de integração.\n",
        "\n",
        "Análise da Questão:\n",
        "\n",
        "Método Utilizado:\n",
        "Foi utilizada a regra da integral indefinida de $\\cos(ax)$ para simplificar a integral.\n",
        "\n",
        "Constante de Integração:\n",
        "A constante $C$ foi incluída para representar a família de antiderivadas da função original. Toda integral indefinida inclui essa constante.\n",
        "\n",
        "Expressão Final:\n",
        "A expressão final da integral é $\\frac{1}{5} \\sin(5x) + C$, onde $C$ é a constante de integração.\n",
        "\n"
      ],
      "metadata": {
        "id": "KC5SO27KyxvP"
      }
    }
  ]
}