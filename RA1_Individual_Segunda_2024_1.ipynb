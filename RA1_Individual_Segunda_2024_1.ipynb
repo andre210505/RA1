{
  "nbformat": 4,
  "nbformat_minor": 0,
  "metadata": {
    "colab": {
      "provenance": [],
      "include_colab_link": true
    },
    "kernelspec": {
      "name": "python3",
      "display_name": "Python 3"
    },
    "language_info": {
      "name": "python"
    }
  },
  "cells": [
    {
      "cell_type": "markdown",
      "metadata": {
        "id": "view-in-github",
        "colab_type": "text"
      },
      "source": [
        "<a href=\"https://colab.research.google.com/github/andre210505/RA1/blob/main/RA1_Individual_Segunda_2024_1.ipynb\" target=\"_parent\"><img src=\"https://colab.research.google.com/assets/colab-badge.svg\" alt=\"Open In Colab\"/></a>"
      ]
    },
    {
      "cell_type": "markdown",
      "source": [
        "# Avaliação em INDIVIDUAL RA1 - 2024-1\n",
        "\n",
        "**Antes de começar, leia estas instruções cuidadosamente.**\n",
        "Esta avaliação é individual. Você poderá consultar qualquer fonte disponível na biblioteca, suas anotações ou na internet. Mas, não poderá consultar outras pessoas.\n",
        "\n",
        "Não existirão prorrogações de prazo de entrega.\n",
        "\n",
        "Trabalhos idênticos entregues por pessoas, diferentes, serão anulados.\n",
        "\n",
        "Todos os trabalhos serão entregues em uma cópia deste caderno de atividades na forma de um link postado no AVA da instituição (Canvas). Todos os enunciados devem ser preservados e você deverá inserir uma célula de textos com o **seu nome**, logo após esta célula de texto de instruções.\n",
        "\n",
        "Qualquer alteração do caderno contendo as suas respostas que seja registrada após a data de postagem provocará a anulação da avaliação.\n",
        "\n",
        "Você poderá usar, neste notebook, apenas a linguagem python limitada ao uso das seguintes bibliotecas: numpy, sympy, matplotlib, ipWidgets e IPython. Todo e qualquer gráfico deverá ser criado usando o Python.\n",
        "\n",
        "Entrega será realizada com a postagem de um link para um ambiente de execução, no AVA da institução. Neste link o seu caderno deve permitir ser executado (permissão de leitor). Serão aceitos links diretos ao ambiente do Google Colaboratory, ou Links a um caderno do Google Colaboratory que tenha sido salvo pelo próprio Google Colaboratory no GitHub. Links para outro ambiente, ou que requeiram qualquer tipo de download, cliques extras, ou ainda, que requeiram aprovação para acesso, provocarão a nota zero na avaliação.\n",
        "\n",
        "Para salvar a avaliação no GitHub, clique no menu _Arquivo_ e escolha a opção _Salvar uma Cópia no Github_. Para que isso funcione você precisa ter um repositório no Github. O link que você irá compartilhar será a url da página que o próprio Gooble Colab irá abrir depois de salvar suas respostas no Github.\n",
        "\n",
        "Se você encontrar algo errado nesta avaliação simplesmente anote suas observações na própria questão. Suas observações serão consideradas durante a avaliação e, em caso de pertinência, poderão encejar a anulação do item, ou da questão, a critério do professor.\n",
        "\n",
        "Não é permitido usar qualquer técnica matemática baseada em derivação, ou que fuja dos conteúdos apresenados em aula referente ao estudo de limites. Você pode usar a fórmula das diferenças finitas e todas as regras e identidades algébricas que sejam pertinentes ao cálculo de limites.\n",
        "\n",
        "**Lembrem-se a interpretação faz parte da questão.**"
      ],
      "metadata": {
        "id": "IYWLM47FgvAt"
      }
    },
    {
      "cell_type": "markdown",
      "source": [
        "## Questões\n",
        "\n",
        "Usando apenas álgebra encontre o limites solicitados a seguir e faça uma análise do resultado encontrados. Para fazer a análise você pode usar as ferramentas que desejar, desde que seja possível verificar a validade das suas afirmações usando apenas este caderno de avaliação.\n",
        "\n",
        "Lembre-se você deve usar notação matemática na sua resposta e todo o desenvolvimento deve estar explicitado (passo a passo). O que implica na obrigatoriedade do uso de Latex neste caderno de avaliação.\n",
        "\n",
        "Observe que o cálculo do valor do limite, usando uma calculadora, site, ou ferramenta qualquer, por si só não pode ser usado como argumento na sua análise. Isso quer dizer que justificativas como o limite é $w$ porque qualquer disse que era esse valor ou o limte é $w$ porque eu calculei usando o sympy, não serão aceitas.\n",
        "\n",
        "1. **Primeira Questão:**\n",
        "\n",
        "   $$\\lim_{{x \\to 0}} \\frac{1 - \\cos(x)}{x^2}$$\n",
        "\n",
        "2. **Segunda Questão:**\n",
        "\n",
        "   $$\\lim_{{x \\to 1}} \\frac{\\sqrt{x + 8} - 3}{x^2 - 1}$$\n",
        "\n",
        "3. **Terceira Questão:**\n",
        "  \n",
        "  $$\\lim_{h \\to 0} \\frac{(2 + h)^3 - 8}{h}$$\n",
        "\n",
        "4. **Quarta Questão:**\n",
        "  \n",
        "  $$\\lim_{t \\to 0} \\left( \\frac{1}{t\\sqrt{t + 1}} - \\frac{1}{t} \\right)$$\n",
        "\n",
        "**Rúbrica de avaliação**: cada limite corretamente determinado com a algebra demonstrada em notação matemática 1 ponto; cada análise consistente 1,5 pontos. Total 2.5 pontos por questão implicando em, no máximo 10 pontos."
      ],
      "metadata": {
        "id": "Hffk6Rtmhaga"
      }
    },
    {
      "cell_type": "markdown",
      "source": [
        "Aluno: André Oliveira Ferreira da Silva"
      ],
      "metadata": {
        "id": "oGFawSETsAkl"
      }
    },
    {
      "cell_type": "markdown",
      "source": [
        "QUESTÃO 1:\n",
        "\n",
        "$$\n",
        "\\lim_{{x \\to 0}} \\frac{1 - \\cos(x)}{x^2}\n",
        "$$\n",
        "\n",
        "Simplificando: $$1 - \\cos(x) = 2 \\sin^2\\left(\\frac{x}{2}\\right)\\$$:\n",
        "\n",
        "$$\n",
        "= \\lim_{{x \\to 0}} \\frac{2 \\sin^2\\left(\\frac{x}{2}\\right)}{x^2}\n",
        "$$\n",
        "\n",
        "\n",
        "\n",
        "$$\n",
        "= 2 \\left(\\lim_{{x \\to 0}} \\frac{\\sin\\left(\\frac{x}{2}\\right)}{\\frac{x}{2}}\\right)^2\n",
        "$$\n",
        "\n",
        "Substituindo $$\\frac{x}{2} = t \\$$:\n",
        "\n",
        "$$\n",
        "= 2 \\left(\\lim_{{t \\to 0}} \\frac{\\sin(t)}{t}\\right)^2\n",
        "$$\n",
        "\n",
        "Usando a identidade: $$\\lim_{{t \\to 0}} \\frac{\\sin(t)}{t} = 1\\$$\n",
        "\n",
        "$$\n",
        "= 2 (1)^2 = 2\n",
        "$$\n",
        "\n",
        "Resposta: 2.\n",
        "\n",
        "\n"
      ],
      "metadata": {
        "id": "x_xxyscavI0b"
      }
    },
    {
      "cell_type": "markdown",
      "source": [
        "QUESTÃO 4:\n",
        "\n",
        "$$\n",
        "\\lim_{{t \\to 0}} \\left( \\frac{1}{t\\sqrt{t + 1}} - \\frac{1}{t} \\right)\n",
        "$$\n",
        "\n",
        "Simplificando:\n",
        "\n",
        "$$\n",
        "= \\lim_{{t \\to 0}} \\frac{1}{t\\sqrt{t + 1}} - \\lim_{{t \\to 0}} \\frac{1}{t}\n",
        "$$\n",
        "\n",
        "Para o primeiro termo::\n",
        "\n",
        "$$\n",
        "\\lim_{{t \\to 0}} \\frac{1}{t\\sqrt{t + 1}} = \\lim_{{t \\to 0}} \\frac{\\sqrt{t + 1}}{t(t\\sqrt{t + 1})}\n",
        "$$\n",
        "\n",
        "$$\n",
        "= \\lim_{{t \\to 0}} \\frac{\\sqrt{t + 1}}{t^2 \\sqrt{t + 1}} = \\lim_{{t \\to 0}} \\frac{1}{t^2}\n",
        "$$\n",
        "\n",
        "$$ \\frac{1}{0^2} = \\infty \\$$.\n",
        "\n",
        "\n",
        "\n",
        "$$\n",
        "\\lim_{{t \\to 0}} \\left( \\frac{1}{t\\sqrt{t + 1}} - \\frac{1}{t} \\right) = \\infty - \\text{indefinido}\n",
        "$$\n",
        "\n",
        "Resultado: o limite não existe\n",
        "\n"
      ],
      "metadata": {
        "id": "sXSmxtllxMQT"
      }
    }
  ]
}